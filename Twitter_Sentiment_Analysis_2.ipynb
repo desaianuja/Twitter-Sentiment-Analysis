{
 "cells": [
  {
   "cell_type": "markdown",
   "metadata": {},
   "source": [
    "# Twitter Sentiment Analysis"
   ]
  },
  {
   "cell_type": "markdown",
   "metadata": {},
   "source": [
    "### Importing Packages and Libraries"
   ]
  },
  {
   "cell_type": "code",
   "execution_count": 1,
   "metadata": {},
   "outputs": [],
   "source": [
    "import tweepy                          # for accessing the Twitter API\n",
    "from textblob import TextBlob          # for processing textual data\n",
    "from wordcloud import WordCloud        # for visual representation of textual data\n",
    "import pandas as pd\n",
    "import numpy as np\n",
    "import re                              # for regular expression\n",
    "import matplotlib.pyplot as plt"
   ]
  },
  {
   "cell_type": "markdown",
   "metadata": {},
   "source": [
    "### Twitter Api Credentials"
   ]
  },
  {
   "cell_type": "code",
   "execution_count": 5,
   "metadata": {},
   "outputs": [],
   "source": [
    "df = pd.read_csv(r'C:\\Users\\windows\\Desktop\\Projects\\Twitter_Sentiment_Analysis\\Twitter_Credentials.csv')"
   ]
  },
  {
   "cell_type": "code",
   "execution_count": 6,
   "metadata": {},
   "outputs": [],
   "source": [
    "api_key = df.api_key[0]\n",
    "api_key_secret = df.api_key_secret[0]\n",
    "access_token = df.access_token[0]\n",
    "access_token_secret = df.access_token_secret[0]"
   ]
  },
  {
   "cell_type": "code",
   "execution_count": 7,
   "metadata": {},
   "outputs": [],
   "source": [
    "# Create the Authentication Object\n",
    "auth = tweepy.OAuthHandler(api_key,api_key_secret)\n",
    "\n",
    "# Set the access token and access token secret\n",
    "auth.set_access_token(access_token,access_token_secret)\n",
    "\n",
    "# Creating the Api object while passing authentication information in it\n",
    "api = tweepy.API(auth)"
   ]
  },
  {
   "cell_type": "markdown",
   "metadata": {},
   "source": [
    "### Extracting and Analyzing the Data"
   ]
  },
  {
   "cell_type": "code",
   "execution_count": 8,
   "metadata": {},
   "outputs": [
    {
     "name": "stdout",
     "output_type": "stream",
     "text": [
      "Show the 5 recent tweets:\n",
      "\n",
      "The world did not do enough to prepare for a pandemic. We can avoid making the same mistake with climate change by:\n",
      "\n",
      "1. Letting science and innovation lead the way\n",
      "2. Making sure solutions work for poor countries too\n",
      "3. Getting started now\n",
      "\n",
      "https://t.co/p9m1j5QuJ7\n",
      "\n",
      "Great tips from @CT_Bergstrom about how to find reliable sources of information and test claims you may see about the pandemic in your social media feeds. https://t.co/8RQUZAUICJ\n",
      "\n",
      "RT @exemplarshealth: In our recent webinar, @doctorsoumya called for community-led responses to #coronavirus. These types of engagements ha…\n",
      "\n",
      "If we learn the lessons of COVID-19, we can approach climate change more informed about the consequences of inaction, and more prepared to save lives and prevent the worst possible outcome. https://t.co/a1Ltv44UBY\n",
      "\n",
      "In his final words, John Lewis challenges all of us to continue to stand up for what we truly believe. “Together, you can redeem the soul of our nation.” \n",
      "\n",
      "https://t.co/5qj0T86Fr1\n",
      "\n"
     ]
    }
   ],
   "source": [
    "# Extract last 100 tweets from the Twitter user\n",
    "posts = api.user_timeline(screen_name=\"BillGates\", count=100, lang='en', tweet_mode=\"extended\")\n",
    "\n",
    "# Print the recent 5 tweets\n",
    "print(\"Show the 5 recent tweets:\\n\")\n",
    "for tweet in posts[:5]:\n",
    "    print(tweet.full_text +'\\n')\n"
   ]
  },
  {
   "cell_type": "code",
   "execution_count": 9,
   "metadata": {},
   "outputs": [
    {
     "data": {
      "text/html": [
       "<div>\n",
       "<style scoped>\n",
       "    .dataframe tbody tr th:only-of-type {\n",
       "        vertical-align: middle;\n",
       "    }\n",
       "\n",
       "    .dataframe tbody tr th {\n",
       "        vertical-align: top;\n",
       "    }\n",
       "\n",
       "    .dataframe thead th {\n",
       "        text-align: right;\n",
       "    }\n",
       "</style>\n",
       "<table border=\"1\" class=\"dataframe\">\n",
       "  <thead>\n",
       "    <tr style=\"text-align: right;\">\n",
       "      <th></th>\n",
       "      <th>Tweets</th>\n",
       "    </tr>\n",
       "  </thead>\n",
       "  <tbody>\n",
       "    <tr>\n",
       "      <td>0</td>\n",
       "      <td>The world did not do enough to prepare for a p...</td>\n",
       "    </tr>\n",
       "    <tr>\n",
       "      <td>1</td>\n",
       "      <td>Great tips from @CT_Bergstrom about how to fin...</td>\n",
       "    </tr>\n",
       "    <tr>\n",
       "      <td>2</td>\n",
       "      <td>RT @exemplarshealth: In our recent webinar, @d...</td>\n",
       "    </tr>\n",
       "    <tr>\n",
       "      <td>3</td>\n",
       "      <td>If we learn the lessons of COVID-19, we can ap...</td>\n",
       "    </tr>\n",
       "    <tr>\n",
       "      <td>4</td>\n",
       "      <td>In his final words, John Lewis challenges all ...</td>\n",
       "    </tr>\n",
       "  </tbody>\n",
       "</table>\n",
       "</div>"
      ],
      "text/plain": [
       "                                              Tweets\n",
       "0  The world did not do enough to prepare for a p...\n",
       "1  Great tips from @CT_Bergstrom about how to fin...\n",
       "2  RT @exemplarshealth: In our recent webinar, @d...\n",
       "3  If we learn the lessons of COVID-19, we can ap...\n",
       "4  In his final words, John Lewis challenges all ..."
      ]
     },
     "execution_count": 9,
     "metadata": {},
     "output_type": "execute_result"
    }
   ],
   "source": [
    "# Create a dataframe to store the tweets\n",
    "df = pd.DataFrame([tweet.full_text for tweet in posts], columns=['Tweets'])       # columns is for giving column name\n",
    "\n",
    "# Print first 5 rows\n",
    "df.head()"
   ]
  },
  {
   "cell_type": "markdown",
   "metadata": {},
   "source": [
    "**The tweets contain some special characetrs like @,hyperlinks etc.Hence it is necessary to clean the text first before moving ahead.**"
   ]
  },
  {
   "cell_type": "markdown",
   "metadata": {},
   "source": [
    "### Data Cleaning "
   ]
  },
  {
   "cell_type": "code",
   "execution_count": 10,
   "metadata": {},
   "outputs": [],
   "source": [
    "#  Create a function to clean the tweets\n",
    "\n",
    "def cleantxt(text):\n",
    "    \n",
    "    #stop_words = set(stopwords.words('english'))\n",
    "    #word_tokens = word_tokenize(text)\n",
    "    \n",
    "    text = re.sub(r'@[A-Za-z0-9]+', '',text)\n",
    "    text = re.sub(r'#', '',text)\n",
    "    text = re.sub(r'RT[\\s]+', '',text)\n",
    "    text = re.sub(r'https?:\\/\\/\\S+', '',text)\n",
    "    \n",
    "    return text"
   ]
  },
  {
   "cell_type": "code",
   "execution_count": 11,
   "metadata": {},
   "outputs": [],
   "source": [
    "# Clean the tweets\n",
    "\n",
    "df['Tweets'] = df['Tweets'].apply(cleantxt)"
   ]
  },
  {
   "cell_type": "code",
   "execution_count": 12,
   "metadata": {},
   "outputs": [
    {
     "data": {
      "text/html": [
       "<div>\n",
       "<style scoped>\n",
       "    .dataframe tbody tr th:only-of-type {\n",
       "        vertical-align: middle;\n",
       "    }\n",
       "\n",
       "    .dataframe tbody tr th {\n",
       "        vertical-align: top;\n",
       "    }\n",
       "\n",
       "    .dataframe thead th {\n",
       "        text-align: right;\n",
       "    }\n",
       "</style>\n",
       "<table border=\"1\" class=\"dataframe\">\n",
       "  <thead>\n",
       "    <tr style=\"text-align: right;\">\n",
       "      <th></th>\n",
       "      <th>Tweets</th>\n",
       "    </tr>\n",
       "  </thead>\n",
       "  <tbody>\n",
       "    <tr>\n",
       "      <td>0</td>\n",
       "      <td>The world did not do enough to prepare for a p...</td>\n",
       "    </tr>\n",
       "    <tr>\n",
       "      <td>1</td>\n",
       "      <td>Great tips from _Bergstrom about how to find r...</td>\n",
       "    </tr>\n",
       "    <tr>\n",
       "      <td>2</td>\n",
       "      <td>: In our recent webinar,  called for community...</td>\n",
       "    </tr>\n",
       "    <tr>\n",
       "      <td>3</td>\n",
       "      <td>If we learn the lessons of COVID-19, we can ap...</td>\n",
       "    </tr>\n",
       "    <tr>\n",
       "      <td>4</td>\n",
       "      <td>In his final words, John Lewis challenges all ...</td>\n",
       "    </tr>\n",
       "    <tr>\n",
       "      <td>...</td>\n",
       "      <td>...</td>\n",
       "    </tr>\n",
       "    <tr>\n",
       "      <td>95</td>\n",
       "      <td>This is an incredible story about the power of...</td>\n",
       "    </tr>\n",
       "    <tr>\n",
       "      <td>96</td>\n",
       "      <td>The only way we'll achieve net-zero carbon emi...</td>\n",
       "    </tr>\n",
       "    <tr>\n",
       "      <td>97</td>\n",
       "      <td>When we first started our foundation, Melinda ...</td>\n",
       "    </tr>\n",
       "    <tr>\n",
       "      <td>98</td>\n",
       "      <td>In our new annual letter,  and I write about w...</td>\n",
       "    </tr>\n",
       "    <tr>\n",
       "      <td>99</td>\n",
       "      <td>: The world must work together to slow the cor...</td>\n",
       "    </tr>\n",
       "  </tbody>\n",
       "</table>\n",
       "<p>100 rows × 1 columns</p>\n",
       "</div>"
      ],
      "text/plain": [
       "                                               Tweets\n",
       "0   The world did not do enough to prepare for a p...\n",
       "1   Great tips from _Bergstrom about how to find r...\n",
       "2   : In our recent webinar,  called for community...\n",
       "3   If we learn the lessons of COVID-19, we can ap...\n",
       "4   In his final words, John Lewis challenges all ...\n",
       "..                                                ...\n",
       "95  This is an incredible story about the power of...\n",
       "96  The only way we'll achieve net-zero carbon emi...\n",
       "97  When we first started our foundation, Melinda ...\n",
       "98  In our new annual letter,  and I write about w...\n",
       "99  : The world must work together to slow the cor...\n",
       "\n",
       "[100 rows x 1 columns]"
      ]
     },
     "execution_count": 12,
     "metadata": {},
     "output_type": "execute_result"
    }
   ],
   "source": [
    "df"
   ]
  },
  {
   "cell_type": "markdown",
   "metadata": {},
   "source": [
    "### Visualization"
   ]
  },
  {
   "cell_type": "code",
   "execution_count": 13,
   "metadata": {},
   "outputs": [
    {
     "data": {
      "image/png": "[encoded data removed]",
      "text/plain": [
       "<Figure size 432x288 with 1 Axes>"
      ]
     },
     "metadata": {
      "needs_background": "light"
     },
     "output_type": "display_data"
    }
   ],
   "source": [
    "words = ''.join(df['Tweets'])\n",
    "wordCloud = WordCloud(width=500, height=300, min_font_size=10, max_font_size=110).generate(words)\n",
    "\n",
    "plt.imshow(wordCloud)\n",
    "plt.axis(\"off\")\n",
    "plt.show()"
   ]
  },
  {
   "cell_type": "markdown",
   "metadata": {},
   "source": [
    "### Subjectivity and Polarity"
   ]
  },
  {
   "cell_type": "code",
   "execution_count": 14,
   "metadata": {},
   "outputs": [],
   "source": [
    "# Creating a function to get subjectivity\n",
    "def getSubjectivity(text):\n",
    "    return TextBlob(text).sentiment.subjectivity\n",
    "\n",
    "# Creating a function to get polarity\n",
    "def getPolarity(text):\n",
    "    return TextBlob(text).sentiment.polarity"
   ]
  },
  {
   "cell_type": "code",
   "execution_count": 15,
   "metadata": {},
   "outputs": [],
   "source": [
    "# Creating two new columns Subjectivity and Polarity\n",
    "\n",
    "df['Subjectivity'] = df['Tweets'].apply(getSubjectivity)\n",
    "df['Polarity'] = df['Tweets'].apply(getPolarity)"
   ]
  },
  {
   "cell_type": "code",
   "execution_count": 16,
   "metadata": {},
   "outputs": [
    {
     "data": {
      "text/html": [
       "<div>\n",
       "<style scoped>\n",
       "    .dataframe tbody tr th:only-of-type {\n",
       "        vertical-align: middle;\n",
       "    }\n",
       "\n",
       "    .dataframe tbody tr th {\n",
       "        vertical-align: top;\n",
       "    }\n",
       "\n",
       "    .dataframe thead th {\n",
       "        text-align: right;\n",
       "    }\n",
       "</style>\n",
       "<table border=\"1\" class=\"dataframe\">\n",
       "  <thead>\n",
       "    <tr style=\"text-align: right;\">\n",
       "      <th></th>\n",
       "      <th>Tweets</th>\n",
       "      <th>Subjectivity</th>\n",
       "      <th>Polarity</th>\n",
       "    </tr>\n",
       "  </thead>\n",
       "  <tbody>\n",
       "    <tr>\n",
       "      <td>0</td>\n",
       "      <td>The world did not do enough to prepare for a p...</td>\n",
       "      <td>0.528472</td>\n",
       "      <td>0.025000</td>\n",
       "    </tr>\n",
       "    <tr>\n",
       "      <td>1</td>\n",
       "      <td>Great tips from _Bergstrom about how to find r...</td>\n",
       "      <td>0.408333</td>\n",
       "      <td>0.416667</td>\n",
       "    </tr>\n",
       "    <tr>\n",
       "      <td>2</td>\n",
       "      <td>: In our recent webinar,  called for community...</td>\n",
       "      <td>0.250000</td>\n",
       "      <td>0.000000</td>\n",
       "    </tr>\n",
       "    <tr>\n",
       "      <td>3</td>\n",
       "      <td>If we learn the lessons of COVID-19, we can ap...</td>\n",
       "      <td>0.750000</td>\n",
       "      <td>0.000000</td>\n",
       "    </tr>\n",
       "    <tr>\n",
       "      <td>4</td>\n",
       "      <td>In his final words, John Lewis challenges all ...</td>\n",
       "      <td>1.000000</td>\n",
       "      <td>0.000000</td>\n",
       "    </tr>\n",
       "    <tr>\n",
       "      <td>...</td>\n",
       "      <td>...</td>\n",
       "      <td>...</td>\n",
       "      <td>...</td>\n",
       "    </tr>\n",
       "    <tr>\n",
       "      <td>95</td>\n",
       "      <td>This is an incredible story about the power of...</td>\n",
       "      <td>0.500000</td>\n",
       "      <td>0.400000</td>\n",
       "    </tr>\n",
       "    <tr>\n",
       "      <td>96</td>\n",
       "      <td>The only way we'll achieve net-zero carbon emi...</td>\n",
       "      <td>1.000000</td>\n",
       "      <td>0.000000</td>\n",
       "    </tr>\n",
       "    <tr>\n",
       "      <td>97</td>\n",
       "      <td>When we first started our foundation, Melinda ...</td>\n",
       "      <td>0.166667</td>\n",
       "      <td>0.125000</td>\n",
       "    </tr>\n",
       "    <tr>\n",
       "      <td>98</td>\n",
       "      <td>In our new annual letter,  and I write about w...</td>\n",
       "      <td>0.304293</td>\n",
       "      <td>0.128788</td>\n",
       "    </tr>\n",
       "    <tr>\n",
       "      <td>99</td>\n",
       "      <td>: The world must work together to slow the cor...</td>\n",
       "      <td>0.466667</td>\n",
       "      <td>-0.100000</td>\n",
       "    </tr>\n",
       "  </tbody>\n",
       "</table>\n",
       "<p>100 rows × 3 columns</p>\n",
       "</div>"
      ],
      "text/plain": [
       "                                               Tweets  Subjectivity  Polarity\n",
       "0   The world did not do enough to prepare for a p...      0.528472  0.025000\n",
       "1   Great tips from _Bergstrom about how to find r...      0.408333  0.416667\n",
       "2   : In our recent webinar,  called for community...      0.250000  0.000000\n",
       "3   If we learn the lessons of COVID-19, we can ap...      0.750000  0.000000\n",
       "4   In his final words, John Lewis challenges all ...      1.000000  0.000000\n",
       "..                                                ...           ...       ...\n",
       "95  This is an incredible story about the power of...      0.500000  0.400000\n",
       "96  The only way we'll achieve net-zero carbon emi...      1.000000  0.000000\n",
       "97  When we first started our foundation, Melinda ...      0.166667  0.125000\n",
       "98  In our new annual letter,  and I write about w...      0.304293  0.128788\n",
       "99  : The world must work together to slow the cor...      0.466667 -0.100000\n",
       "\n",
       "[100 rows x 3 columns]"
      ]
     },
     "execution_count": 16,
     "metadata": {},
     "output_type": "execute_result"
    }
   ],
   "source": [
    "df"
   ]
  },
  {
   "cell_type": "code",
   "execution_count": 17,
   "metadata": {},
   "outputs": [
    {
     "data": {
      "image/png": "[encoded data removed]",
      "text/plain": [
       "<Figure size 432x288 with 1 Axes>"
      ]
     },
     "metadata": {
      "needs_background": "light"
     },
     "output_type": "display_data"
    }
   ],
   "source": [
    "sub = df['Subjectivity']\n",
    "pol = df['Polarity']\n",
    "plt.hist(pol, bins=20)\n",
    "plt.hist(sub, bins=20)\n",
    "plt.show()"
   ]
  },
  {
   "cell_type": "markdown",
   "metadata": {},
   "source": [
    "### Analysing the sentiment "
   ]
  },
  {
   "cell_type": "code",
   "execution_count": 18,
   "metadata": {},
   "outputs": [],
   "source": [
    "# Creating a function to find whether the tweet is Positive,Negative or Neutral\n",
    "def getAnalysis(Polarity):\n",
    "    if Polarity < 0:\n",
    "        return 'Negative'\n",
    "    elif Polarity > 0:\n",
    "        return 'Positive'\n",
    "    else:\n",
    "        return 'Neutral'    "
   ]
  },
  {
   "cell_type": "code",
   "execution_count": 19,
   "metadata": {},
   "outputs": [],
   "source": [
    "df['Analysis'] = df['Polarity'].apply(getAnalysis)"
   ]
  },
  {
   "cell_type": "code",
   "execution_count": 20,
   "metadata": {},
   "outputs": [
    {
     "data": {
      "text/html": [
       "<div>\n",
       "<style scoped>\n",
       "    .dataframe tbody tr th:only-of-type {\n",
       "        vertical-align: middle;\n",
       "    }\n",
       "\n",
       "    .dataframe tbody tr th {\n",
       "        vertical-align: top;\n",
       "    }\n",
       "\n",
       "    .dataframe thead th {\n",
       "        text-align: right;\n",
       "    }\n",
       "</style>\n",
       "<table border=\"1\" class=\"dataframe\">\n",
       "  <thead>\n",
       "    <tr style=\"text-align: right;\">\n",
       "      <th></th>\n",
       "      <th>Tweets</th>\n",
       "      <th>Subjectivity</th>\n",
       "      <th>Polarity</th>\n",
       "      <th>Analysis</th>\n",
       "    </tr>\n",
       "  </thead>\n",
       "  <tbody>\n",
       "    <tr>\n",
       "      <td>0</td>\n",
       "      <td>The world did not do enough to prepare for a p...</td>\n",
       "      <td>0.528472</td>\n",
       "      <td>0.025000</td>\n",
       "      <td>Positive</td>\n",
       "    </tr>\n",
       "    <tr>\n",
       "      <td>1</td>\n",
       "      <td>Great tips from _Bergstrom about how to find r...</td>\n",
       "      <td>0.408333</td>\n",
       "      <td>0.416667</td>\n",
       "      <td>Positive</td>\n",
       "    </tr>\n",
       "    <tr>\n",
       "      <td>2</td>\n",
       "      <td>: In our recent webinar,  called for community...</td>\n",
       "      <td>0.250000</td>\n",
       "      <td>0.000000</td>\n",
       "      <td>Neutral</td>\n",
       "    </tr>\n",
       "    <tr>\n",
       "      <td>3</td>\n",
       "      <td>If we learn the lessons of COVID-19, we can ap...</td>\n",
       "      <td>0.750000</td>\n",
       "      <td>0.000000</td>\n",
       "      <td>Neutral</td>\n",
       "    </tr>\n",
       "    <tr>\n",
       "      <td>4</td>\n",
       "      <td>In his final words, John Lewis challenges all ...</td>\n",
       "      <td>1.000000</td>\n",
       "      <td>0.000000</td>\n",
       "      <td>Neutral</td>\n",
       "    </tr>\n",
       "    <tr>\n",
       "      <td>...</td>\n",
       "      <td>...</td>\n",
       "      <td>...</td>\n",
       "      <td>...</td>\n",
       "      <td>...</td>\n",
       "    </tr>\n",
       "    <tr>\n",
       "      <td>95</td>\n",
       "      <td>This is an incredible story about the power of...</td>\n",
       "      <td>0.500000</td>\n",
       "      <td>0.400000</td>\n",
       "      <td>Positive</td>\n",
       "    </tr>\n",
       "    <tr>\n",
       "      <td>96</td>\n",
       "      <td>The only way we'll achieve net-zero carbon emi...</td>\n",
       "      <td>1.000000</td>\n",
       "      <td>0.000000</td>\n",
       "      <td>Neutral</td>\n",
       "    </tr>\n",
       "    <tr>\n",
       "      <td>97</td>\n",
       "      <td>When we first started our foundation, Melinda ...</td>\n",
       "      <td>0.166667</td>\n",
       "      <td>0.125000</td>\n",
       "      <td>Positive</td>\n",
       "    </tr>\n",
       "    <tr>\n",
       "      <td>98</td>\n",
       "      <td>In our new annual letter,  and I write about w...</td>\n",
       "      <td>0.304293</td>\n",
       "      <td>0.128788</td>\n",
       "      <td>Positive</td>\n",
       "    </tr>\n",
       "    <tr>\n",
       "      <td>99</td>\n",
       "      <td>: The world must work together to slow the cor...</td>\n",
       "      <td>0.466667</td>\n",
       "      <td>-0.100000</td>\n",
       "      <td>Negative</td>\n",
       "    </tr>\n",
       "  </tbody>\n",
       "</table>\n",
       "<p>100 rows × 4 columns</p>\n",
       "</div>"
      ],
      "text/plain": [
       "                                               Tweets  Subjectivity  Polarity  \\\n",
       "0   The world did not do enough to prepare for a p...      0.528472  0.025000   \n",
       "1   Great tips from _Bergstrom about how to find r...      0.408333  0.416667   \n",
       "2   : In our recent webinar,  called for community...      0.250000  0.000000   \n",
       "3   If we learn the lessons of COVID-19, we can ap...      0.750000  0.000000   \n",
       "4   In his final words, John Lewis challenges all ...      1.000000  0.000000   \n",
       "..                                                ...           ...       ...   \n",
       "95  This is an incredible story about the power of...      0.500000  0.400000   \n",
       "96  The only way we'll achieve net-zero carbon emi...      1.000000  0.000000   \n",
       "97  When we first started our foundation, Melinda ...      0.166667  0.125000   \n",
       "98  In our new annual letter,  and I write about w...      0.304293  0.128788   \n",
       "99  : The world must work together to slow the cor...      0.466667 -0.100000   \n",
       "\n",
       "    Analysis  \n",
       "0   Positive  \n",
       "1   Positive  \n",
       "2    Neutral  \n",
       "3    Neutral  \n",
       "4    Neutral  \n",
       "..       ...  \n",
       "95  Positive  \n",
       "96   Neutral  \n",
       "97  Positive  \n",
       "98  Positive  \n",
       "99  Negative  \n",
       "\n",
       "[100 rows x 4 columns]"
      ]
     },
     "execution_count": 20,
     "metadata": {},
     "output_type": "execute_result"
    }
   ],
   "source": [
    "df"
   ]
  },
  {
   "cell_type": "code",
   "execution_count": null,
   "metadata": {},
   "outputs": [],
   "source": []
  },
  {
   "cell_type": "code",
   "execution_count": 21,
   "metadata": {},
   "outputs": [
    {
     "data": {
      "image/png": "[encoded data removed]",
      "text/plain": [
       "<Figure size 576x432 with 1 Axes>"
      ]
     },
     "metadata": {
      "needs_background": "light"
     },
     "output_type": "display_data"
    }
   ],
   "source": [
    "plt.figure(figsize=(8,6))\n",
    "plt.scatter(df['Subjectivity'],df['Polarity'], s=50, c='red', alpha=1)\n",
    "plt.title(\"Sentiment Analysis\",fontsize=18)\n",
    "plt.xlabel(\"Subjectivity\",fontsize=15)\n",
    "plt.ylabel(\"Polarity\",fontsize=15)\n",
    "plt.show()"
   ]
  },
  {
   "cell_type": "markdown",
   "metadata": {},
   "source": [
    "### Plotting the Value Counts"
   ]
  },
  {
   "cell_type": "code",
   "execution_count": 22,
   "metadata": {},
   "outputs": [
    {
     "data": {
      "image/png": "[encoded data removed]",
      "text/plain": [
       "<Figure size 432x288 with 1 Axes>"
      ]
     },
     "metadata": {
      "needs_background": "light"
     },
     "output_type": "display_data"
    }
   ],
   "source": [
    "plt.title(\"Sentiment Analysis\")\n",
    "plt.xlabel(\"Sentiment\")\n",
    "plt.ylabel(\"Count\")\n",
    "df['Analysis'].value_counts().plot(kind='bar')\n",
    "plt.show()"
   ]
  },
  {
   "cell_type": "code",
   "execution_count": null,
   "metadata": {},
   "outputs": [],
   "source": []
  }
 ],
 "metadata": {
  "kernelspec": {
   "display_name": "Python 3",
   "language": "python",
   "name": "python3"
  },
  "language_info": {
   "codemirror_mode": {
    "name": "ipython",
    "version": 3
   },
   "file_extension": ".py",
   "mimetype": "text/x-python",
   "name": "python",
   "nbconvert_exporter": "python",
   "pygments_lexer": "ipython3",
   "version": "3.7.4"
  }
 },
 "nbformat": 4,
 "nbformat_minor": 2
}
